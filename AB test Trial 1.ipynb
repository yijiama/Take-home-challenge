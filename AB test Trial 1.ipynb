{
 "cells": [
  {
   "cell_type": "code",
   "execution_count": 162,
   "id": "60605138",
   "metadata": {},
   "outputs": [],
   "source": [
    "import numpy as np\n",
    "import pandas as pd\n",
    "import matplotlib.pyplot as plt\n",
    "import seaborn as sns\n",
    "%matplotlib inline"
   ]
  },
  {
   "cell_type": "code",
   "execution_count": 163,
   "id": "769d8df9",
   "metadata": {},
   "outputs": [
    {
     "data": {
      "text/html": [
       "<div>\n",
       "<style scoped>\n",
       "    .dataframe tbody tr th:only-of-type {\n",
       "        vertical-align: middle;\n",
       "    }\n",
       "\n",
       "    .dataframe tbody tr th {\n",
       "        vertical-align: top;\n",
       "    }\n",
       "\n",
       "    .dataframe thead th {\n",
       "        text-align: right;\n",
       "    }\n",
       "</style>\n",
       "<table border=\"1\" class=\"dataframe\">\n",
       "  <thead>\n",
       "    <tr style=\"text-align: right;\">\n",
       "      <th></th>\n",
       "      <th>user_id</th>\n",
       "      <th>sex</th>\n",
       "      <th>age</th>\n",
       "      <th>country</th>\n",
       "    </tr>\n",
       "  </thead>\n",
       "  <tbody>\n",
       "    <tr>\n",
       "      <th>0</th>\n",
       "      <td>765821</td>\n",
       "      <td>M</td>\n",
       "      <td>20</td>\n",
       "      <td>Mexico</td>\n",
       "    </tr>\n",
       "    <tr>\n",
       "      <th>1</th>\n",
       "      <td>343561</td>\n",
       "      <td>F</td>\n",
       "      <td>27</td>\n",
       "      <td>Nicaragua</td>\n",
       "    </tr>\n",
       "    <tr>\n",
       "      <th>2</th>\n",
       "      <td>118744</td>\n",
       "      <td>M</td>\n",
       "      <td>23</td>\n",
       "      <td>Colombia</td>\n",
       "    </tr>\n",
       "    <tr>\n",
       "      <th>3</th>\n",
       "      <td>987753</td>\n",
       "      <td>F</td>\n",
       "      <td>27</td>\n",
       "      <td>Venezuela</td>\n",
       "    </tr>\n",
       "    <tr>\n",
       "      <th>4</th>\n",
       "      <td>554597</td>\n",
       "      <td>F</td>\n",
       "      <td>20</td>\n",
       "      <td>Spain</td>\n",
       "    </tr>\n",
       "  </tbody>\n",
       "</table>\n",
       "</div>"
      ],
      "text/plain": [
       "   user_id sex  age    country\n",
       "0   765821   M   20     Mexico\n",
       "1   343561   F   27  Nicaragua\n",
       "2   118744   M   23   Colombia\n",
       "3   987753   F   27  Venezuela\n",
       "4   554597   F   20      Spain"
      ]
     },
     "execution_count": 163,
     "metadata": {},
     "output_type": "execute_result"
    }
   ],
   "source": [
    "user = pd.read_csv('user_table.csv')\n",
    "user.head()"
   ]
  },
  {
   "cell_type": "code",
   "execution_count": 164,
   "id": "d5c61f11",
   "metadata": {},
   "outputs": [
    {
     "data": {
      "text/html": [
       "<div>\n",
       "<style scoped>\n",
       "    .dataframe tbody tr th:only-of-type {\n",
       "        vertical-align: middle;\n",
       "    }\n",
       "\n",
       "    .dataframe tbody tr th {\n",
       "        vertical-align: top;\n",
       "    }\n",
       "\n",
       "    .dataframe thead th {\n",
       "        text-align: right;\n",
       "    }\n",
       "</style>\n",
       "<table border=\"1\" class=\"dataframe\">\n",
       "  <thead>\n",
       "    <tr style=\"text-align: right;\">\n",
       "      <th></th>\n",
       "      <th>user_id</th>\n",
       "      <th>date</th>\n",
       "      <th>source</th>\n",
       "      <th>device</th>\n",
       "      <th>browser_language</th>\n",
       "      <th>ads_channel</th>\n",
       "      <th>browser</th>\n",
       "      <th>conversion</th>\n",
       "      <th>test</th>\n",
       "    </tr>\n",
       "  </thead>\n",
       "  <tbody>\n",
       "    <tr>\n",
       "      <th>0</th>\n",
       "      <td>315281</td>\n",
       "      <td>2015-12-03</td>\n",
       "      <td>Direct</td>\n",
       "      <td>Web</td>\n",
       "      <td>ES</td>\n",
       "      <td>NaN</td>\n",
       "      <td>IE</td>\n",
       "      <td>1</td>\n",
       "      <td>0</td>\n",
       "    </tr>\n",
       "    <tr>\n",
       "      <th>1</th>\n",
       "      <td>497851</td>\n",
       "      <td>2015-12-04</td>\n",
       "      <td>Ads</td>\n",
       "      <td>Web</td>\n",
       "      <td>ES</td>\n",
       "      <td>Google</td>\n",
       "      <td>IE</td>\n",
       "      <td>0</td>\n",
       "      <td>1</td>\n",
       "    </tr>\n",
       "    <tr>\n",
       "      <th>2</th>\n",
       "      <td>848402</td>\n",
       "      <td>2015-12-04</td>\n",
       "      <td>Ads</td>\n",
       "      <td>Web</td>\n",
       "      <td>ES</td>\n",
       "      <td>Facebook</td>\n",
       "      <td>Chrome</td>\n",
       "      <td>0</td>\n",
       "      <td>0</td>\n",
       "    </tr>\n",
       "    <tr>\n",
       "      <th>3</th>\n",
       "      <td>290051</td>\n",
       "      <td>2015-12-03</td>\n",
       "      <td>Ads</td>\n",
       "      <td>Mobile</td>\n",
       "      <td>Other</td>\n",
       "      <td>Facebook</td>\n",
       "      <td>Android_App</td>\n",
       "      <td>0</td>\n",
       "      <td>1</td>\n",
       "    </tr>\n",
       "    <tr>\n",
       "      <th>4</th>\n",
       "      <td>548435</td>\n",
       "      <td>2015-11-30</td>\n",
       "      <td>Ads</td>\n",
       "      <td>Web</td>\n",
       "      <td>ES</td>\n",
       "      <td>Google</td>\n",
       "      <td>FireFox</td>\n",
       "      <td>0</td>\n",
       "      <td>1</td>\n",
       "    </tr>\n",
       "  </tbody>\n",
       "</table>\n",
       "</div>"
      ],
      "text/plain": [
       "   user_id        date  source  device browser_language ads_channel  \\\n",
       "0   315281  2015-12-03  Direct     Web               ES         NaN   \n",
       "1   497851  2015-12-04     Ads     Web               ES      Google   \n",
       "2   848402  2015-12-04     Ads     Web               ES    Facebook   \n",
       "3   290051  2015-12-03     Ads  Mobile            Other    Facebook   \n",
       "4   548435  2015-11-30     Ads     Web               ES      Google   \n",
       "\n",
       "       browser  conversion  test  \n",
       "0           IE           1     0  \n",
       "1           IE           0     1  \n",
       "2       Chrome           0     0  \n",
       "3  Android_App           0     1  \n",
       "4      FireFox           0     1  "
      ]
     },
     "execution_count": 164,
     "metadata": {},
     "output_type": "execute_result"
    }
   ],
   "source": [
    "df = pd.read_csv('test_table.csv')\n",
    "df.head()"
   ]
  },
  {
   "cell_type": "code",
   "execution_count": 165,
   "id": "04f04754",
   "metadata": {},
   "outputs": [
    {
     "name": "stdout",
     "output_type": "stream",
     "text": [
      "There is no duplicates in test table:  True\n",
      "\n",
      "\n",
      "There is no  duplicates in user table:  True\n"
     ]
    }
   ],
   "source": [
    "###---Join two tables\n",
    "print (\"There is no duplicates in test table: \", df['user_id'].nunique() == df.shape[0])\n",
    "print('\\n')\n",
    "print (\"There is no  duplicates in user table: \", user['user_id'].nunique() == user.shape[0])"
   ]
  },
  {
   "cell_type": "code",
   "execution_count": 166,
   "id": "8e23f4d0",
   "metadata": {},
   "outputs": [
    {
     "data": {
      "text/plain": [
       "454"
      ]
     },
     "execution_count": 166,
     "metadata": {},
     "output_type": "execute_result"
    }
   ],
   "source": [
    "# check if everyone in one table also in other one?\n",
    "df['user_id'].nunique()-user['user_id'].nunique()\n",
    "\n",
    "## looks like user table has some user ids missing. when joining, \n",
    "## we have to be careful to do not lose the user ids in the test table, but not in the user table"
   ]
  },
  {
   "cell_type": "code",
   "execution_count": 167,
   "id": "df14fdb7",
   "metadata": {},
   "outputs": [],
   "source": [
    "data = df.merge(user, on='user_id',how='left')"
   ]
  },
  {
   "cell_type": "code",
   "execution_count": 168,
   "id": "92f1df1d",
   "metadata": {},
   "outputs": [
    {
     "data": {
      "text/html": [
       "<div>\n",
       "<style scoped>\n",
       "    .dataframe tbody tr th:only-of-type {\n",
       "        vertical-align: middle;\n",
       "    }\n",
       "\n",
       "    .dataframe tbody tr th {\n",
       "        vertical-align: top;\n",
       "    }\n",
       "\n",
       "    .dataframe thead th {\n",
       "        text-align: right;\n",
       "    }\n",
       "</style>\n",
       "<table border=\"1\" class=\"dataframe\">\n",
       "  <thead>\n",
       "    <tr style=\"text-align: right;\">\n",
       "      <th></th>\n",
       "      <th>user_id</th>\n",
       "      <th>date</th>\n",
       "      <th>source</th>\n",
       "      <th>device</th>\n",
       "      <th>browser_language</th>\n",
       "      <th>ads_channel</th>\n",
       "      <th>browser</th>\n",
       "      <th>conversion</th>\n",
       "      <th>test</th>\n",
       "      <th>sex</th>\n",
       "      <th>age</th>\n",
       "      <th>country</th>\n",
       "    </tr>\n",
       "  </thead>\n",
       "  <tbody>\n",
       "    <tr>\n",
       "      <th>0</th>\n",
       "      <td>315281</td>\n",
       "      <td>2015-12-03</td>\n",
       "      <td>Direct</td>\n",
       "      <td>Web</td>\n",
       "      <td>ES</td>\n",
       "      <td>NaN</td>\n",
       "      <td>IE</td>\n",
       "      <td>1</td>\n",
       "      <td>0</td>\n",
       "      <td>M</td>\n",
       "      <td>32.0</td>\n",
       "      <td>Spain</td>\n",
       "    </tr>\n",
       "    <tr>\n",
       "      <th>1</th>\n",
       "      <td>497851</td>\n",
       "      <td>2015-12-04</td>\n",
       "      <td>Ads</td>\n",
       "      <td>Web</td>\n",
       "      <td>ES</td>\n",
       "      <td>Google</td>\n",
       "      <td>IE</td>\n",
       "      <td>0</td>\n",
       "      <td>1</td>\n",
       "      <td>M</td>\n",
       "      <td>21.0</td>\n",
       "      <td>Mexico</td>\n",
       "    </tr>\n",
       "    <tr>\n",
       "      <th>2</th>\n",
       "      <td>848402</td>\n",
       "      <td>2015-12-04</td>\n",
       "      <td>Ads</td>\n",
       "      <td>Web</td>\n",
       "      <td>ES</td>\n",
       "      <td>Facebook</td>\n",
       "      <td>Chrome</td>\n",
       "      <td>0</td>\n",
       "      <td>0</td>\n",
       "      <td>M</td>\n",
       "      <td>34.0</td>\n",
       "      <td>Spain</td>\n",
       "    </tr>\n",
       "    <tr>\n",
       "      <th>3</th>\n",
       "      <td>290051</td>\n",
       "      <td>2015-12-03</td>\n",
       "      <td>Ads</td>\n",
       "      <td>Mobile</td>\n",
       "      <td>Other</td>\n",
       "      <td>Facebook</td>\n",
       "      <td>Android_App</td>\n",
       "      <td>0</td>\n",
       "      <td>1</td>\n",
       "      <td>F</td>\n",
       "      <td>22.0</td>\n",
       "      <td>Mexico</td>\n",
       "    </tr>\n",
       "    <tr>\n",
       "      <th>4</th>\n",
       "      <td>548435</td>\n",
       "      <td>2015-11-30</td>\n",
       "      <td>Ads</td>\n",
       "      <td>Web</td>\n",
       "      <td>ES</td>\n",
       "      <td>Google</td>\n",
       "      <td>FireFox</td>\n",
       "      <td>0</td>\n",
       "      <td>1</td>\n",
       "      <td>M</td>\n",
       "      <td>19.0</td>\n",
       "      <td>Mexico</td>\n",
       "    </tr>\n",
       "  </tbody>\n",
       "</table>\n",
       "</div>"
      ],
      "text/plain": [
       "   user_id        date  source  device browser_language ads_channel  \\\n",
       "0   315281  2015-12-03  Direct     Web               ES         NaN   \n",
       "1   497851  2015-12-04     Ads     Web               ES      Google   \n",
       "2   848402  2015-12-04     Ads     Web               ES    Facebook   \n",
       "3   290051  2015-12-03     Ads  Mobile            Other    Facebook   \n",
       "4   548435  2015-11-30     Ads     Web               ES      Google   \n",
       "\n",
       "       browser  conversion  test sex   age country  \n",
       "0           IE           1     0   M  32.0   Spain  \n",
       "1           IE           0     1   M  21.0  Mexico  \n",
       "2       Chrome           0     0   M  34.0   Spain  \n",
       "3  Android_App           0     1   F  22.0  Mexico  \n",
       "4      FireFox           0     1   M  19.0  Mexico  "
      ]
     },
     "execution_count": 168,
     "metadata": {},
     "output_type": "execute_result"
    }
   ],
   "source": [
    "data.head()"
   ]
  },
  {
   "cell_type": "code",
   "execution_count": 169,
   "id": "9be25a37",
   "metadata": {},
   "outputs": [
    {
     "data": {
      "text/html": [
       "<div>\n",
       "<style scoped>\n",
       "    .dataframe tbody tr th:only-of-type {\n",
       "        vertical-align: middle;\n",
       "    }\n",
       "\n",
       "    .dataframe tbody tr th {\n",
       "        vertical-align: top;\n",
       "    }\n",
       "\n",
       "    .dataframe thead th {\n",
       "        text-align: right;\n",
       "    }\n",
       "</style>\n",
       "<table border=\"1\" class=\"dataframe\">\n",
       "  <thead>\n",
       "    <tr style=\"text-align: right;\">\n",
       "      <th></th>\n",
       "      <th>count</th>\n",
       "      <th>mean</th>\n",
       "      <th>std</th>\n",
       "      <th>min</th>\n",
       "      <th>25%</th>\n",
       "      <th>50%</th>\n",
       "      <th>75%</th>\n",
       "      <th>max</th>\n",
       "    </tr>\n",
       "  </thead>\n",
       "  <tbody>\n",
       "    <tr>\n",
       "      <th>user_id</th>\n",
       "      <td>453321.0</td>\n",
       "      <td>499937.514728</td>\n",
       "      <td>288665.193436</td>\n",
       "      <td>1.0</td>\n",
       "      <td>249816.0</td>\n",
       "      <td>500019.0</td>\n",
       "      <td>749522.0</td>\n",
       "      <td>1000000.0</td>\n",
       "    </tr>\n",
       "    <tr>\n",
       "      <th>conversion</th>\n",
       "      <td>453321.0</td>\n",
       "      <td>0.049579</td>\n",
       "      <td>0.217073</td>\n",
       "      <td>0.0</td>\n",
       "      <td>0.0</td>\n",
       "      <td>0.0</td>\n",
       "      <td>0.0</td>\n",
       "      <td>1.0</td>\n",
       "    </tr>\n",
       "    <tr>\n",
       "      <th>test</th>\n",
       "      <td>453321.0</td>\n",
       "      <td>0.476446</td>\n",
       "      <td>0.499445</td>\n",
       "      <td>0.0</td>\n",
       "      <td>0.0</td>\n",
       "      <td>0.0</td>\n",
       "      <td>1.0</td>\n",
       "      <td>1.0</td>\n",
       "    </tr>\n",
       "    <tr>\n",
       "      <th>age</th>\n",
       "      <td>452867.0</td>\n",
       "      <td>27.130740</td>\n",
       "      <td>6.776678</td>\n",
       "      <td>18.0</td>\n",
       "      <td>22.0</td>\n",
       "      <td>26.0</td>\n",
       "      <td>31.0</td>\n",
       "      <td>70.0</td>\n",
       "    </tr>\n",
       "  </tbody>\n",
       "</table>\n",
       "</div>"
      ],
      "text/plain": [
       "               count           mean            std   min       25%       50%  \\\n",
       "user_id     453321.0  499937.514728  288665.193436   1.0  249816.0  500019.0   \n",
       "conversion  453321.0       0.049579       0.217073   0.0       0.0       0.0   \n",
       "test        453321.0       0.476446       0.499445   0.0       0.0       0.0   \n",
       "age         452867.0      27.130740       6.776678  18.0      22.0      26.0   \n",
       "\n",
       "                 75%        max  \n",
       "user_id     749522.0  1000000.0  \n",
       "conversion       0.0        1.0  \n",
       "test             1.0        1.0  \n",
       "age             31.0       70.0  "
      ]
     },
     "execution_count": 169,
     "metadata": {},
     "output_type": "execute_result"
    }
   ],
   "source": [
    "data.describe().transpose()"
   ]
  },
  {
   "cell_type": "code",
   "execution_count": 170,
   "id": "ee801887",
   "metadata": {},
   "outputs": [],
   "source": [
    "groupby_country = data[data['test']==0].groupby('country')['conversion'].mean()  ##test=0 is control group"
   ]
  },
  {
   "cell_type": "code",
   "execution_count": 171,
   "id": "c12125a5",
   "metadata": {},
   "outputs": [],
   "source": [
    "groupby_country = groupby_country.reset_index().sort_values('conversion', ascending=False)"
   ]
  },
  {
   "cell_type": "code",
   "execution_count": 172,
   "id": "67044c46",
   "metadata": {},
   "outputs": [
    {
     "data": {
      "text/html": [
       "<div>\n",
       "<style scoped>\n",
       "    .dataframe tbody tr th:only-of-type {\n",
       "        vertical-align: middle;\n",
       "    }\n",
       "\n",
       "    .dataframe tbody tr th {\n",
       "        vertical-align: top;\n",
       "    }\n",
       "\n",
       "    .dataframe thead th {\n",
       "        text-align: right;\n",
       "    }\n",
       "</style>\n",
       "<table border=\"1\" class=\"dataframe\">\n",
       "  <thead>\n",
       "    <tr style=\"text-align: right;\">\n",
       "      <th></th>\n",
       "      <th>country</th>\n",
       "      <th>conversion</th>\n",
       "    </tr>\n",
       "  </thead>\n",
       "  <tbody>\n",
       "    <tr>\n",
       "      <th>14</th>\n",
       "      <td>Spain</td>\n",
       "      <td>0.079719</td>\n",
       "    </tr>\n",
       "    <tr>\n",
       "      <th>6</th>\n",
       "      <td>El Salvador</td>\n",
       "      <td>0.053554</td>\n",
       "    </tr>\n",
       "    <tr>\n",
       "      <th>10</th>\n",
       "      <td>Nicaragua</td>\n",
       "      <td>0.052647</td>\n",
       "    </tr>\n",
       "    <tr>\n",
       "      <th>4</th>\n",
       "      <td>Costa Rica</td>\n",
       "      <td>0.052256</td>\n",
       "    </tr>\n",
       "    <tr>\n",
       "      <th>3</th>\n",
       "      <td>Colombia</td>\n",
       "      <td>0.052089</td>\n",
       "    </tr>\n",
       "    <tr>\n",
       "      <th>8</th>\n",
       "      <td>Honduras</td>\n",
       "      <td>0.050906</td>\n",
       "    </tr>\n",
       "    <tr>\n",
       "      <th>7</th>\n",
       "      <td>Guatemala</td>\n",
       "      <td>0.050643</td>\n",
       "    </tr>\n",
       "    <tr>\n",
       "      <th>16</th>\n",
       "      <td>Venezuela</td>\n",
       "      <td>0.050344</td>\n",
       "    </tr>\n",
       "    <tr>\n",
       "      <th>13</th>\n",
       "      <td>Peru</td>\n",
       "      <td>0.049914</td>\n",
       "    </tr>\n",
       "    <tr>\n",
       "      <th>9</th>\n",
       "      <td>Mexico</td>\n",
       "      <td>0.049495</td>\n",
       "    </tr>\n",
       "    <tr>\n",
       "      <th>1</th>\n",
       "      <td>Bolivia</td>\n",
       "      <td>0.049369</td>\n",
       "    </tr>\n",
       "    <tr>\n",
       "      <th>5</th>\n",
       "      <td>Ecuador</td>\n",
       "      <td>0.049154</td>\n",
       "    </tr>\n",
       "    <tr>\n",
       "      <th>12</th>\n",
       "      <td>Paraguay</td>\n",
       "      <td>0.048493</td>\n",
       "    </tr>\n",
       "    <tr>\n",
       "      <th>2</th>\n",
       "      <td>Chile</td>\n",
       "      <td>0.048107</td>\n",
       "    </tr>\n",
       "    <tr>\n",
       "      <th>11</th>\n",
       "      <td>Panama</td>\n",
       "      <td>0.046796</td>\n",
       "    </tr>\n",
       "    <tr>\n",
       "      <th>0</th>\n",
       "      <td>Argentina</td>\n",
       "      <td>0.015071</td>\n",
       "    </tr>\n",
       "    <tr>\n",
       "      <th>15</th>\n",
       "      <td>Uruguay</td>\n",
       "      <td>0.012048</td>\n",
       "    </tr>\n",
       "  </tbody>\n",
       "</table>\n",
       "</div>"
      ],
      "text/plain": [
       "        country  conversion\n",
       "14        Spain    0.079719\n",
       "6   El Salvador    0.053554\n",
       "10    Nicaragua    0.052647\n",
       "4    Costa Rica    0.052256\n",
       "3      Colombia    0.052089\n",
       "8      Honduras    0.050906\n",
       "7     Guatemala    0.050643\n",
       "16    Venezuela    0.050344\n",
       "13         Peru    0.049914\n",
       "9        Mexico    0.049495\n",
       "1       Bolivia    0.049369\n",
       "5       Ecuador    0.049154\n",
       "12     Paraguay    0.048493\n",
       "2         Chile    0.048107\n",
       "11       Panama    0.046796\n",
       "0     Argentina    0.015071\n",
       "15      Uruguay    0.012048"
      ]
     },
     "execution_count": 172,
     "metadata": {},
     "output_type": "execute_result"
    }
   ],
   "source": [
    "groupby_country\n",
    "\n",
    "## it looks like spain covert at least 2% more than the rest of LatAm countries."
   ]
  },
  {
   "cell_type": "code",
   "execution_count": 173,
   "id": "97d593d3",
   "metadata": {},
   "outputs": [
    {
     "data": {
      "text/plain": [
       "<AxesSubplot:xlabel='country', ylabel='conversion'>"
      ]
     },
     "execution_count": 173,
     "metadata": {},
     "output_type": "execute_result"
    },
    {
     "data": {
      "image/png": "[encoded data removed]",
      "text/plain": [
       "<Figure size 1296x432 with 1 Axes>"
      ]
     },
     "metadata": {
      "needs_background": "light"
     },
     "output_type": "display_data"
    }
   ],
   "source": [
    "fig = plt.figure(figsize=(18,6))\n",
    "sns.barplot(x='country',y='conversion', data=groupby_country)"
   ]
  },
  {
   "cell_type": "code",
   "execution_count": 174,
   "id": "1baf210d",
   "metadata": {},
   "outputs": [
    {
     "data": {
      "text/plain": [
       "<AxesSubplot:xlabel='country', ylabel='conversion'>"
      ]
     },
     "execution_count": 174,
     "metadata": {},
     "output_type": "execute_result"
    },
    {
     "data": {
      "image/png": "[encoded data removed]",
      "text/plain": [
       "<Figure size 1296x432 with 1 Axes>"
      ]
     },
     "metadata": {
      "needs_background": "light"
     },
     "output_type": "display_data"
    }
   ],
   "source": [
    "fig = plt.figure(figsize=(18, 6))\n",
    "sns.barplot(x='country', y='conversion', hue='test', data=data)"
   ]
  },
  {
   "cell_type": "code",
   "execution_count": 175,
   "id": "e788462a",
   "metadata": {},
   "outputs": [],
   "source": [
    "#========================================================\n",
    "# A/B TEST\n",
    "#========================================================\n",
    "test_data = data[data['country']!='Spain']\n",
    "orig = test_data[test_data['test']==0]['conversion'].values\n",
    "after = test_data[test_data['test']==1]['conversion'].values"
   ]
  },
  {
   "cell_type": "code",
   "execution_count": 176,
   "id": "ef475efc",
   "metadata": {},
   "outputs": [
    {
     "name": "stdout",
     "output_type": "stream",
     "text": [
      "Mean conversion rate of control group: 0.04833042316066309\n",
      "Mean conversion rate of test group: 0.043424713982118966\n"
     ]
    }
   ],
   "source": [
    "print(\"Mean conversion rate of control group:\", orig.mean())\n",
    "print(\"Mean conversion rate of test group:\", after.mean())\n",
    "## in control group: the conversion rate is 4.8%, while in test group, the conversion rate is 4.3%((4.8%-4.3%)/4.8%) . This is a 10% drop\n",
    "## which would be dramatic if it were true. "
   ]
  },
  {
   "cell_type": "code",
   "execution_count": 177,
   "id": "cb6d27f5",
   "metadata": {},
   "outputs": [
    {
     "name": "stdout",
     "output_type": "stream",
     "text": [
      "ShapiroResult(statistic=0.21902984380722046, pvalue=0.0)\n",
      "ShapiroResult(statistic=0.20420461893081665, pvalue=0.0)\n"
     ]
    },
    {
     "name": "stderr",
     "output_type": "stream",
     "text": [
      "C:\\Users\\yijia\\anaconda3\\envs\\py3-TF2.0\\lib\\site-packages\\scipy\\stats\\morestats.py:1760: UserWarning: p-value may not be accurate for N > 5000.\n",
      "  warnings.warn(\"p-value may not be accurate for N > 5000.\")\n"
     ]
    }
   ],
   "source": [
    "###  Welch's t-test --unequal variances independent samples t-test\n",
    "# 1 check the assumption of normality using the stats.shapiro()\n",
    "from scipy.stats import shapiro\n",
    "print(shapiro(orig))\n",
    "print(shapiro(after))\n",
    "\n",
    "# Neither of the variables of interest violates the assumption of normality so we can continue with our analysis plan."
   ]
  },
  {
   "cell_type": "code",
   "execution_count": 178,
   "id": "5aa456d5",
   "metadata": {},
   "outputs": [
    {
     "data": {
      "text/plain": [
       "Ttest_indResult(statistic=7.3939374121344805, pvalue=1.4282994754055316e-13)"
      ]
     },
     "execution_count": 178,
     "metadata": {},
     "output_type": "execute_result"
    }
   ],
   "source": [
    "from scipy.stats import ttest_ind\n",
    "ttest_ind(orig, after, equal_var=False)\n",
    "#statistic=7.3939374121344805, pvalue=1.4282994754055316e-13\n",
    "# Thus we reject H0, and conclude that there is a significant difference between the two sample's mean"
   ]
  },
  {
   "cell_type": "markdown",
   "id": "782ea5ad",
   "metadata": {},
   "source": [
    "The most likely reason for weird A/B test results are:\n",
    "1. we didn't collect enough data\n",
    "2. Some bias has been introduced in the experiment so that test/control people are not really random.\n",
    "\n",
    "In data science, whenever results appear too bad or too good to be true, they are not true."
   ]
  },
  {
   "cell_type": "code",
   "execution_count": 179,
   "id": "0b7b11a8",
   "metadata": {},
   "outputs": [],
   "source": [
    "orig_bydate = test_data[test_data['test']==0][['date','conversion']].groupby('date').mean()\n",
    "after_bydate = test_data[test_data['test']==1][['date','conversion']].groupby('date').mean()"
   ]
  },
  {
   "cell_type": "code",
   "execution_count": 180,
   "id": "46a8521a",
   "metadata": {},
   "outputs": [
    {
     "data": {
      "text/plain": [
       "[<matplotlib.lines.Line2D at 0x2022bec3730>]"
      ]
     },
     "execution_count": 180,
     "metadata": {},
     "output_type": "execute_result"
    },
    {
     "data": {
      "image/png": "[encoded data removed]",
      "text/plain": [
       "<Figure size 864x360 with 1 Axes>"
      ]
     },
     "metadata": {
      "needs_background": "light"
     },
     "output_type": "display_data"
    }
   ],
   "source": [
    "fig = plt.figure(figsize=(12,5))\n",
    "plt.plot(after_bydate/orig_bydate)"
   ]
  },
  {
   "cell_type": "markdown",
   "id": "2a4cd101",
   "metadata": {},
   "source": [
    "From the above plot, we notice:\n",
    "1. Test has constantly been worse than control and there is relatively little variance across days. That probably means that we do have enough data, but there was some bias in the experiment set up.\n",
    "2. On a side note, we just ran it for 5 days. We should always run the test for at least 1 full week to capture weekly patterns, 2 weeks should be much better. "
   ]
  },
  {
   "cell_type": "markdown",
   "id": "8d5e0ccf",
   "metadata": {},
   "source": [
    "Time to find out the bias! Likely, there is for some reason some segment of users more likely to end up in test or in control. There are many ways to check this, One way is to build a decision tree where the variables are the user dimensions and the outcome variable is whether the user is in test or control. If the tree splits, it means that for given values of that varibale you are more likely to end up in test or control. But this should be impossible! Therefore, if the randomization worked, the tree should not split at all (or at least not be able to separate the two classes well)"
   ]
  },
  {
   "cell_type": "code",
   "execution_count": 181,
   "id": "fcebfbb8",
   "metadata": {},
   "outputs": [],
   "source": [
    "# One-Hot-Encoding for Categorical Data\n",
    "def OneHotEncoding(d):\n",
    "    col_name = d.columns\n",
    "    for i in range(d.shape[1]):\n",
    "        dummy = pd.get_dummies(d[col_name[i]], prefix=col_name[i], drop_first=True)\n",
    "        d = pd.concat([d, dummy], axis=1)\n",
    "        d = d.drop(col_name[i], axis=1)\n",
    "    return d\n",
    "\n",
    "def DataTransformation(data):\n",
    "    cat = data.select_dtypes(include = ['object'])\n",
    "    cat_new = OneHotEncoding(cat)\n",
    "    newdata = pd.concat([data.drop(cat,axis=1), cat_new], axis=1)\n",
    "    return newdata"
   ]
  },
  {
   "cell_type": "code",
   "execution_count": 182,
   "id": "3e66af33",
   "metadata": {},
   "outputs": [
    {
     "name": "stdout",
     "output_type": "stream",
     "text": [
      "                       0         1\n",
      "user_id                0  0.000000\n",
      "date                   0  0.000000\n",
      "source                 0  0.000000\n",
      "device                 0  0.000000\n",
      "browser_language       0  0.000000\n",
      "ads_channel       240555  0.599083\n",
      "browser                0  0.000000\n",
      "conversion             0  0.000000\n",
      "test                   0  0.000000\n",
      "sex                  454  0.001131\n",
      "age                  454  0.001131\n",
      "country              454  0.001131\n"
     ]
    }
   ],
   "source": [
    "print(pd.concat([test_data.isnull().sum(), test_data.isnull().sum()/len(test_data)], axis=1))"
   ]
  },
  {
   "cell_type": "markdown",
   "id": "cab27d3c",
   "metadata": {},
   "source": [
    "There more than 50% null values over all data. I decide to take a look of this column and find out whether this feature is related to conversion rate or not."
   ]
  },
  {
   "cell_type": "code",
   "execution_count": 183,
   "id": "bb20de66",
   "metadata": {},
   "outputs": [
    {
     "data": {
      "text/html": [
       "<div>\n",
       "<style scoped>\n",
       "    .dataframe tbody tr th:only-of-type {\n",
       "        vertical-align: middle;\n",
       "    }\n",
       "\n",
       "    .dataframe tbody tr th {\n",
       "        vertical-align: top;\n",
       "    }\n",
       "\n",
       "    .dataframe thead th {\n",
       "        text-align: right;\n",
       "    }\n",
       "</style>\n",
       "<table border=\"1\" class=\"dataframe\">\n",
       "  <thead>\n",
       "    <tr style=\"text-align: right;\">\n",
       "      <th></th>\n",
       "      <th>user_id</th>\n",
       "      <th>conversion</th>\n",
       "      <th>test</th>\n",
       "      <th>age</th>\n",
       "    </tr>\n",
       "    <tr>\n",
       "      <th>ads_channel</th>\n",
       "      <th></th>\n",
       "      <th></th>\n",
       "      <th></th>\n",
       "      <th></th>\n",
       "    </tr>\n",
       "  </thead>\n",
       "  <tbody>\n",
       "    <tr>\n",
       "      <th>Bing</th>\n",
       "      <td>496021.147448</td>\n",
       "      <td>1.0</td>\n",
       "      <td>0.517958</td>\n",
       "      <td>27.359848</td>\n",
       "    </tr>\n",
       "    <tr>\n",
       "      <th>Facebook</th>\n",
       "      <td>502840.940330</td>\n",
       "      <td>1.0</td>\n",
       "      <td>0.506143</td>\n",
       "      <td>27.067582</td>\n",
       "    </tr>\n",
       "    <tr>\n",
       "      <th>Google</th>\n",
       "      <td>495503.602979</td>\n",
       "      <td>1.0</td>\n",
       "      <td>0.506357</td>\n",
       "      <td>27.109210</td>\n",
       "    </tr>\n",
       "    <tr>\n",
       "      <th>Other</th>\n",
       "      <td>496730.236111</td>\n",
       "      <td>1.0</td>\n",
       "      <td>0.506944</td>\n",
       "      <td>27.055556</td>\n",
       "    </tr>\n",
       "    <tr>\n",
       "      <th>Yahoo</th>\n",
       "      <td>503853.288513</td>\n",
       "      <td>1.0</td>\n",
       "      <td>0.520926</td>\n",
       "      <td>26.596616</td>\n",
       "    </tr>\n",
       "  </tbody>\n",
       "</table>\n",
       "</div>"
      ],
      "text/plain": [
       "                   user_id  conversion      test        age\n",
       "ads_channel                                                \n",
       "Bing         496021.147448         1.0  0.517958  27.359848\n",
       "Facebook     502840.940330         1.0  0.506143  27.067582\n",
       "Google       495503.602979         1.0  0.506357  27.109210\n",
       "Other        496730.236111         1.0  0.506944  27.055556\n",
       "Yahoo        503853.288513         1.0  0.520926  26.596616"
      ]
     },
     "execution_count": 183,
     "metadata": {},
     "output_type": "execute_result"
    }
   ],
   "source": [
    "test_data[test_data['conversion']==1].groupby('ads_channel').mean()"
   ]
  },
  {
   "cell_type": "markdown",
   "id": "30be8a8c",
   "metadata": {},
   "source": [
    "The channel people used to log in site is not much difference in conversion. So we just delete this coulumn."
   ]
  },
  {
   "cell_type": "code",
   "execution_count": 184,
   "id": "d018a849",
   "metadata": {},
   "outputs": [],
   "source": [
    "test_data = test_data.drop('ads_channel', axis=1)"
   ]
  },
  {
   "cell_type": "code",
   "execution_count": 185,
   "id": "07ec6dde",
   "metadata": {},
   "outputs": [
    {
     "name": "stdout",
     "output_type": "stream",
     "text": [
      "                    0         1\n",
      "user_id             0  0.000000\n",
      "date                0  0.000000\n",
      "source              0  0.000000\n",
      "device              0  0.000000\n",
      "browser_language    0  0.000000\n",
      "browser             0  0.000000\n",
      "conversion          0  0.000000\n",
      "test                0  0.000000\n",
      "sex               454  0.001131\n",
      "age               454  0.001131\n",
      "country           454  0.001131\n"
     ]
    }
   ],
   "source": [
    "print(pd.concat([test_data.isnull().sum(), test_data.isnull().sum()/len(test_data)], axis=1))"
   ]
  },
  {
   "cell_type": "code",
   "execution_count": 186,
   "id": "fbb22182",
   "metadata": {},
   "outputs": [],
   "source": [
    "test_data = test_data.dropna(how='any',axis=0) "
   ]
  },
  {
   "cell_type": "code",
   "execution_count": 187,
   "id": "f01dfddc",
   "metadata": {},
   "outputs": [
    {
     "data": {
      "text/html": [
       "<div>\n",
       "<style scoped>\n",
       "    .dataframe tbody tr th:only-of-type {\n",
       "        vertical-align: middle;\n",
       "    }\n",
       "\n",
       "    .dataframe tbody tr th {\n",
       "        vertical-align: top;\n",
       "    }\n",
       "\n",
       "    .dataframe thead th {\n",
       "        text-align: right;\n",
       "    }\n",
       "</style>\n",
       "<table border=\"1\" class=\"dataframe\">\n",
       "  <thead>\n",
       "    <tr style=\"text-align: right;\">\n",
       "      <th></th>\n",
       "      <th>user_id</th>\n",
       "      <th>conversion</th>\n",
       "      <th>age</th>\n",
       "      <th>source_Direct</th>\n",
       "      <th>source_SEO</th>\n",
       "      <th>device_Web</th>\n",
       "      <th>browser_language_ES</th>\n",
       "      <th>browser_language_Other</th>\n",
       "      <th>browser_Chrome</th>\n",
       "      <th>browser_FireFox</th>\n",
       "      <th>...</th>\n",
       "      <th>country_El Salvador</th>\n",
       "      <th>country_Guatemala</th>\n",
       "      <th>country_Honduras</th>\n",
       "      <th>country_Mexico</th>\n",
       "      <th>country_Nicaragua</th>\n",
       "      <th>country_Panama</th>\n",
       "      <th>country_Paraguay</th>\n",
       "      <th>country_Peru</th>\n",
       "      <th>country_Uruguay</th>\n",
       "      <th>country_Venezuela</th>\n",
       "    </tr>\n",
       "  </thead>\n",
       "  <tbody>\n",
       "    <tr>\n",
       "      <th>1</th>\n",
       "      <td>497851</td>\n",
       "      <td>0</td>\n",
       "      <td>21.0</td>\n",
       "      <td>0</td>\n",
       "      <td>0</td>\n",
       "      <td>1</td>\n",
       "      <td>1</td>\n",
       "      <td>0</td>\n",
       "      <td>0</td>\n",
       "      <td>0</td>\n",
       "      <td>...</td>\n",
       "      <td>0</td>\n",
       "      <td>0</td>\n",
       "      <td>0</td>\n",
       "      <td>1</td>\n",
       "      <td>0</td>\n",
       "      <td>0</td>\n",
       "      <td>0</td>\n",
       "      <td>0</td>\n",
       "      <td>0</td>\n",
       "      <td>0</td>\n",
       "    </tr>\n",
       "    <tr>\n",
       "      <th>3</th>\n",
       "      <td>290051</td>\n",
       "      <td>0</td>\n",
       "      <td>22.0</td>\n",
       "      <td>0</td>\n",
       "      <td>0</td>\n",
       "      <td>0</td>\n",
       "      <td>0</td>\n",
       "      <td>1</td>\n",
       "      <td>0</td>\n",
       "      <td>0</td>\n",
       "      <td>...</td>\n",
       "      <td>0</td>\n",
       "      <td>0</td>\n",
       "      <td>0</td>\n",
       "      <td>1</td>\n",
       "      <td>0</td>\n",
       "      <td>0</td>\n",
       "      <td>0</td>\n",
       "      <td>0</td>\n",
       "      <td>0</td>\n",
       "      <td>0</td>\n",
       "    </tr>\n",
       "    <tr>\n",
       "      <th>4</th>\n",
       "      <td>548435</td>\n",
       "      <td>0</td>\n",
       "      <td>19.0</td>\n",
       "      <td>0</td>\n",
       "      <td>0</td>\n",
       "      <td>1</td>\n",
       "      <td>1</td>\n",
       "      <td>0</td>\n",
       "      <td>0</td>\n",
       "      <td>1</td>\n",
       "      <td>...</td>\n",
       "      <td>0</td>\n",
       "      <td>0</td>\n",
       "      <td>0</td>\n",
       "      <td>1</td>\n",
       "      <td>0</td>\n",
       "      <td>0</td>\n",
       "      <td>0</td>\n",
       "      <td>0</td>\n",
       "      <td>0</td>\n",
       "      <td>0</td>\n",
       "    </tr>\n",
       "    <tr>\n",
       "      <th>5</th>\n",
       "      <td>540675</td>\n",
       "      <td>0</td>\n",
       "      <td>22.0</td>\n",
       "      <td>1</td>\n",
       "      <td>0</td>\n",
       "      <td>0</td>\n",
       "      <td>1</td>\n",
       "      <td>0</td>\n",
       "      <td>0</td>\n",
       "      <td>0</td>\n",
       "      <td>...</td>\n",
       "      <td>0</td>\n",
       "      <td>0</td>\n",
       "      <td>0</td>\n",
       "      <td>0</td>\n",
       "      <td>0</td>\n",
       "      <td>0</td>\n",
       "      <td>0</td>\n",
       "      <td>0</td>\n",
       "      <td>0</td>\n",
       "      <td>1</td>\n",
       "    </tr>\n",
       "    <tr>\n",
       "      <th>6</th>\n",
       "      <td>863394</td>\n",
       "      <td>0</td>\n",
       "      <td>35.0</td>\n",
       "      <td>0</td>\n",
       "      <td>1</td>\n",
       "      <td>0</td>\n",
       "      <td>0</td>\n",
       "      <td>1</td>\n",
       "      <td>0</td>\n",
       "      <td>0</td>\n",
       "      <td>...</td>\n",
       "      <td>0</td>\n",
       "      <td>0</td>\n",
       "      <td>0</td>\n",
       "      <td>1</td>\n",
       "      <td>0</td>\n",
       "      <td>0</td>\n",
       "      <td>0</td>\n",
       "      <td>0</td>\n",
       "      <td>0</td>\n",
       "      <td>0</td>\n",
       "    </tr>\n",
       "  </tbody>\n",
       "</table>\n",
       "<p>5 rows × 30 columns</p>\n",
       "</div>"
      ],
      "text/plain": [
       "   user_id  conversion   age  source_Direct  source_SEO  device_Web  \\\n",
       "1   497851           0  21.0              0           0           1   \n",
       "3   290051           0  22.0              0           0           0   \n",
       "4   548435           0  19.0              0           0           1   \n",
       "5   540675           0  22.0              1           0           0   \n",
       "6   863394           0  35.0              0           1           0   \n",
       "\n",
       "   browser_language_ES  browser_language_Other  browser_Chrome  \\\n",
       "1                    1                       0               0   \n",
       "3                    0                       1               0   \n",
       "4                    1                       0               0   \n",
       "5                    1                       0               0   \n",
       "6                    0                       1               0   \n",
       "\n",
       "   browser_FireFox  ...  country_El Salvador  country_Guatemala  \\\n",
       "1                0  ...                    0                  0   \n",
       "3                0  ...                    0                  0   \n",
       "4                1  ...                    0                  0   \n",
       "5                0  ...                    0                  0   \n",
       "6                0  ...                    0                  0   \n",
       "\n",
       "   country_Honduras  country_Mexico  country_Nicaragua  country_Panama  \\\n",
       "1                 0               1                  0               0   \n",
       "3                 0               1                  0               0   \n",
       "4                 0               1                  0               0   \n",
       "5                 0               0                  0               0   \n",
       "6                 0               1                  0               0   \n",
       "\n",
       "   country_Paraguay  country_Peru  country_Uruguay  country_Venezuela  \n",
       "1                 0             0                0                  0  \n",
       "3                 0             0                0                  0  \n",
       "4                 0             0                0                  0  \n",
       "5                 0             0                0                  1  \n",
       "6                 0             0                0                  0  \n",
       "\n",
       "[5 rows x 30 columns]"
      ]
     },
     "execution_count": 187,
     "metadata": {},
     "output_type": "execute_result"
    }
   ],
   "source": [
    "X_train = test_data.drop(['date','test'], axis=1)\n",
    "y_train = test_data['test']\n",
    "\n",
    "X_train_trans = DataTransformation(X_train)\n",
    "X_train_trans.head()"
   ]
  },
  {
   "cell_type": "code",
   "execution_count": 202,
   "id": "16609b22",
   "metadata": {},
   "outputs": [
    {
     "data": {
      "text/plain": [
       "[<matplotlib.lines.Line2D at 0x202473e7970>]"
      ]
     },
     "execution_count": 202,
     "metadata": {},
     "output_type": "execute_result"
    },
    {
     "data": {
      "image/png": "[encoded data removed]",
      "text/plain": [
       "<Figure size 1296x360 with 1 Axes>"
      ]
     },
     "metadata": {
      "needs_background": "light"
     },
     "output_type": "display_data"
    }
   ],
   "source": [
    "orig_bycountry = test_data[test_data['test']==0].groupby('country')['conversion'].mean()\n",
    "after_bycountry = test_data[test_data['test']==1].groupby('country')['conversion'].mean()\n",
    "fig = plt.figure(figsize=(18,5))\n",
    "plt.plot(after_bycountry/orig_bycountry)"
   ]
  },
  {
   "cell_type": "code",
   "execution_count": 198,
   "id": "f2697755",
   "metadata": {},
   "outputs": [
    {
     "data": {
      "text/plain": [
       "DecisionTreeClassifier(max_depth=5)"
      ]
     },
     "execution_count": 198,
     "metadata": {},
     "output_type": "execute_result"
    }
   ],
   "source": [
    "from sklearn.tree import DecisionTreeClassifier\n",
    "dtree=DecisionTreeClassifier(max_depth=5)\n",
    "dtree.fit(X_train_trans, y_train)\n"
   ]
  },
  {
   "cell_type": "code",
   "execution_count": 199,
   "id": "ef2131c8",
   "metadata": {},
   "outputs": [
    {
     "name": "stdout",
     "output_type": "stream",
     "text": [
      "name                          score\n",
      "country_Uruguay         0.395941\n",
      "country_Peru            0.174418\n",
      "country_Mexico          0.158729\n",
      "country_Colombia        0.130283\n",
      "country_Venezuela       0.123568\n",
      "user_id                 0.0115954\n",
      "source_Direct           0.00114948\n",
      "browser_language_ES     0.00101192\n",
      "browser_Safari          0.000881015\n",
      "conversion              0.000848695\n",
      "age                     0.000751672\n",
      "device_Web              0.000557095\n",
      "browser_language_Other  0.000265376\n",
      "source_SEO              0\n",
      "browser_Chrome          0\n",
      "browser_FireFox         0\n",
      "browser_IE              0\n",
      "browser_Iphone_App      0\n",
      "browser_Opera           0\n",
      "sex_M                   0\n",
      "country_Bolivia         0\n",
      "country_Chile           0\n",
      "country_Costa Rica      0\n",
      "country_Ecuador         0\n",
      "country_El Salvador     0\n",
      "country_Guatemala       0\n",
      "country_Honduras        0\n",
      "country_Nicaragua       0\n",
      "country_Panama          0\n",
      "country_Paraguay        0\n"
     ]
    }
   ],
   "source": [
    "\n",
    "from tabulate import tabulate\n",
    "headers = [\"name\", \"score\"]\n",
    "values = sorted(zip(X_train_trans, dtree.feature_importances_), key=lambda x: x[1] * -1)\n",
    "print(tabulate(values, headers, tablefmt=\"plain\"))"
   ]
  },
  {
   "cell_type": "code",
   "execution_count": 200,
   "id": "456bf7bf",
   "metadata": {},
   "outputs": [
    {
     "data": {
      "text/plain": [
       "[Text(579.4615384615385, 298.98, 'X[28] <= 0.5\\ngini = 0.497\\nsamples = 401085\\nvalue = [185311, 215774]'),\n",
       " Text(309.04615384615386, 244.62, 'X[23] <= 0.5\\ngini = 0.498\\nsamples = 396951\\nvalue = [184896, 212055]'),\n",
       " Text(154.52307692307693, 190.26000000000002, 'X[17] <= 0.5\\ngini = 0.495\\nsamples = 268467\\nvalue = [120687, 147780]'),\n",
       " Text(77.26153846153846, 135.9, 'X[29] <= 0.5\\ngini = 0.492\\nsamples = 214407\\nvalue = [93599, 120808]'),\n",
       " Text(38.63076923076923, 81.53999999999999, 'X[27] <= 0.5\\ngini = 0.489\\nsamples = 182353\\nvalue = [77450, 104903]'),\n",
       " Text(19.315384615384616, 27.180000000000007, 'gini = 0.483\\nsamples = 148687\\nvalue = [60581, 88106]'),\n",
       " Text(57.94615384615385, 27.180000000000007, 'gini = 0.5\\nsamples = 33666\\nvalue = [16869, 16797]'),\n",
       " Text(115.8923076923077, 81.53999999999999, 'X[13] <= 0.5\\ngini = 0.5\\nsamples = 32054\\nvalue = [16149, 15905]'),\n",
       " Text(96.57692307692308, 27.180000000000007, 'gini = 0.5\\nsamples = 29087\\nvalue = [14597, 14490]'),\n",
       " Text(135.2076923076923, 27.180000000000007, 'gini = 0.499\\nsamples = 2967\\nvalue = [1552, 1415]'),\n",
       " Text(231.7846153846154, 135.9, 'X[0] <= 999580.5\\ngini = 0.5\\nsamples = 54060\\nvalue = [27088, 26972]'),\n",
       " Text(193.15384615384616, 81.53999999999999, 'X[0] <= 80547.0\\ngini = 0.5\\nsamples = 54031\\nvalue = [27079, 26952]'),\n",
       " Text(173.83846153846156, 27.180000000000007, 'gini = 0.5\\nsamples = 4444\\nvalue = [2168, 2276]'),\n",
       " Text(212.46923076923076, 27.180000000000007, 'gini = 0.5\\nsamples = 49587\\nvalue = [24911, 24676]'),\n",
       " Text(270.4153846153846, 81.53999999999999, 'X[2] <= 20.5\\ngini = 0.428\\nsamples = 29\\nvalue = [9, 20]'),\n",
       " Text(251.10000000000002, 27.180000000000007, 'gini = 0.0\\nsamples = 7\\nvalue = [0, 7]'),\n",
       " Text(289.7307692307692, 27.180000000000007, 'gini = 0.483\\nsamples = 22\\nvalue = [9, 13]'),\n",
       " Text(463.5692307692308, 190.26000000000002, 'X[3] <= 0.5\\ngini = 0.5\\nsamples = 128484\\nvalue = [64209, 64275]'),\n",
       " Text(386.3076923076923, 135.9, 'X[0] <= 946269.5\\ngini = 0.5\\nsamples = 102981\\nvalue = [51284, 51697]'),\n",
       " Text(347.6769230769231, 81.53999999999999, 'X[0] <= 938259.0\\ngini = 0.5\\nsamples = 97429\\nvalue = [48436, 48993]'),\n",
       " Text(328.3615384615385, 27.180000000000007, 'gini = 0.5\\nsamples = 96612\\nvalue = [48070, 48542]'),\n",
       " Text(366.9923076923077, 27.180000000000007, 'gini = 0.495\\nsamples = 817\\nvalue = [366, 451]'),\n",
       " Text(424.9384615384615, 81.53999999999999, 'X[0] <= 962148.0\\ngini = 0.5\\nsamples = 5552\\nvalue = [2848, 2704]'),\n",
       " Text(405.62307692307695, 27.180000000000007, 'gini = 0.497\\nsamples = 1676\\nvalue = [904, 772]'),\n",
       " Text(444.25384615384615, 27.180000000000007, 'gini = 0.5\\nsamples = 3876\\nvalue = [1944, 1932]'),\n",
       " Text(540.8307692307692, 135.9, 'X[0] <= 999388.5\\ngini = 0.5\\nsamples = 25503\\nvalue = [12925, 12578]'),\n",
       " Text(502.20000000000005, 81.53999999999999, 'X[1] <= 0.5\\ngini = 0.5\\nsamples = 25487\\nvalue = [12923, 12564]'),\n",
       " Text(482.8846153846154, 27.180000000000007, 'gini = 0.5\\nsamples = 24165\\nvalue = [12291, 11874]'),\n",
       " Text(521.5153846153846, 27.180000000000007, 'gini = 0.499\\nsamples = 1322\\nvalue = [632, 690]'),\n",
       " Text(579.4615384615385, 81.53999999999999, 'X[0] <= 999958.0\\ngini = 0.219\\nsamples = 16\\nvalue = [2, 14]'),\n",
       " Text(560.1461538461539, 27.180000000000007, 'gini = 0.124\\nsamples = 15\\nvalue = [1, 14]'),\n",
       " Text(598.7769230769231, 27.180000000000007, 'gini = 0.0\\nsamples = 1\\nvalue = [1, 0]'),\n",
       " Text(849.876923076923, 244.62, 'X[7] <= 0.5\\ngini = 0.181\\nsamples = 4134\\nvalue = [415, 3719]'),\n",
       " Text(772.6153846153846, 190.26000000000002, 'X[0] <= 8528.5\\ngini = 0.183\\nsamples = 4021\\nvalue = [410, 3611]'),\n",
       " Text(695.3538461538462, 135.9, 'X[6] <= 0.5\\ngini = 0.32\\nsamples = 30\\nvalue = [6, 24]'),\n",
       " Text(656.723076923077, 81.53999999999999, 'X[0] <= 3760.0\\ngini = 0.375\\nsamples = 4\\nvalue = [3, 1]'),\n",
       " Text(637.4076923076923, 27.180000000000007, 'gini = 0.0\\nsamples = 1\\nvalue = [0, 1]'),\n",
       " Text(676.0384615384615, 27.180000000000007, 'gini = 0.0\\nsamples = 3\\nvalue = [3, 0]'),\n",
       " Text(733.9846153846154, 81.53999999999999, 'X[0] <= 7829.5\\ngini = 0.204\\nsamples = 26\\nvalue = [3, 23]'),\n",
       " Text(714.6692307692308, 27.180000000000007, 'gini = 0.083\\nsamples = 23\\nvalue = [1, 22]'),\n",
       " Text(753.3000000000001, 27.180000000000007, 'gini = 0.444\\nsamples = 3\\nvalue = [2, 1]'),\n",
       " Text(849.876923076923, 135.9, 'X[0] <= 31886.5\\ngini = 0.182\\nsamples = 3991\\nvalue = [404, 3587]'),\n",
       " Text(811.2461538461539, 81.53999999999999, 'X[2] <= 32.5\\ngini = 0.041\\nsamples = 95\\nvalue = [2, 93]'),\n",
       " Text(791.9307692307692, 27.180000000000007, 'gini = 0.0\\nsamples = 74\\nvalue = [0, 74]'),\n",
       " Text(830.5615384615385, 27.180000000000007, 'gini = 0.172\\nsamples = 21\\nvalue = [2, 19]'),\n",
       " Text(888.5076923076923, 81.53999999999999, 'X[0] <= 32880.5\\ngini = 0.185\\nsamples = 3896\\nvalue = [402, 3494]'),\n",
       " Text(869.1923076923077, 27.180000000000007, 'gini = 0.375\\nsamples = 4\\nvalue = [3, 1]'),\n",
       " Text(907.823076923077, 27.180000000000007, 'gini = 0.184\\nsamples = 3892\\nvalue = [399, 3493]'),\n",
       " Text(927.1384615384616, 190.26000000000002, 'X[0] <= 13159.5\\ngini = 0.085\\nsamples = 113\\nvalue = [5, 108]'),\n",
       " Text(907.823076923077, 135.9, 'gini = 0.0\\nsamples = 1\\nvalue = [1, 0]'),\n",
       " Text(946.4538461538461, 135.9, 'X[0] <= 871134.0\\ngini = 0.069\\nsamples = 112\\nvalue = [4, 108]'),\n",
       " Text(927.1384615384616, 81.53999999999999, 'gini = 0.0\\nsamples = 92\\nvalue = [0, 92]'),\n",
       " Text(965.7692307692308, 81.53999999999999, 'X[5] <= 0.5\\ngini = 0.32\\nsamples = 20\\nvalue = [4, 16]'),\n",
       " Text(946.4538461538461, 27.180000000000007, 'gini = 0.444\\nsamples = 3\\nvalue = [2, 1]'),\n",
       " Text(985.0846153846154, 27.180000000000007, 'gini = 0.208\\nsamples = 17\\nvalue = [2, 15]')]"
      ]
     },
     "execution_count": 200,
     "metadata": {},
     "output_type": "execute_result"
    },
    {
     "data": {
      "image/png": "[encoded data removed]",
      "text/plain": [
       "<Figure size 1296x432 with 1 Axes>"
      ]
     },
     "metadata": {
      "needs_background": "light"
     },
     "output_type": "display_data"
    }
   ],
   "source": [
    "from sklearn.datasets import load_iris\n",
    "from sklearn import tree\n",
    "iris = load_iris()\n",
    "fig = plt.figure(figsize=(18,6))\n",
    "tree.plot_tree(dtree)"
   ]
  },
  {
   "cell_type": "markdown",
   "id": "32369ec8",
   "metadata": {},
   "source": [
    "From the features, we can see that countries is the most important feature for conversion. So let’s check the test results\n",
    "after controlling for country."
   ]
  },
  {
   "cell_type": "code",
   "execution_count": 191,
   "id": "20f02b9f",
   "metadata": {},
   "outputs": [
    {
     "name": "stdout",
     "output_type": "stream",
     "text": [
      "Country               Test Rate    Control Rate    P-Value\n",
      "-----------------------------------------------------------------\n",
      "Mexico                  0.05119         0.04949   0.165544\n",
      "Venezuela               0.04898         0.05034   0.573702\n",
      "Bolivia                 0.04790         0.04937   0.718885\n",
      "Colombia                0.05057         0.05209   0.423719\n",
      "Uruguay                 0.01291         0.01205   0.879764\n",
      "El Salvador             0.04795         0.05355   0.248127\n",
      "Nicaragua               0.05418         0.05265   0.780400\n",
      "Peru                    0.05060         0.04991   0.771953\n",
      "Costa Rica              0.05474         0.05226   0.687876\n",
      "Chile                   0.05130         0.04811   0.302848\n",
      "Argentina               0.01373         0.01507   0.335147\n",
      "Ecuador                 0.04899         0.04915   0.961512\n",
      "Guatemala               0.04865         0.05064   0.572107\n",
      "Honduras                0.04754         0.05091   0.471463\n",
      "Paraguay                0.04923         0.04849   0.883697\n",
      "Panama                  0.04937         0.04680   0.705327\n"
     ]
    }
   ],
   "source": [
    "countries = [name for name in test_data['country'].unique() if name is not np.nan]\n",
    "\n",
    "print('{0:15s} {1:>15s} {2:>15s} {3:>10s}'.format('Country', 'Test Rate', 'Control Rate', 'P-Value'))\n",
    "print('-' * 65)\n",
    "for country in countries:\n",
    "    test_val = test_data[(test_data['country'] == country) & (test_data['test'] == 1)]['conversion'].values\n",
    "    cont_val = test_data[(test_data['country'] == country) & (test_data['test'] == 0)]['conversion'].values\n",
    "    \n",
    "    test_mean = test_val.mean()\n",
    "    cont_mean = cont_val.mean()\n",
    "    p_val = ttest_ind(test_val, cont_val, equal_var=False).pvalue\n",
    "    \n",
    "    print('{0:15s} {1:15.5f} {2:15.5f} {3:10f}'.format(country, test_mean, cont_mean, p_val))"
   ]
  },
  {
   "cell_type": "markdown",
   "id": "2e217beb",
   "metadata": {},
   "source": [
    "After we control for country, the test clearly appears non significant. Not a great success given that the\n",
    "goal was to improve conversion rate, but at least we know that a localized translation didn’t make things\n",
    "worse!"
   ]
  },
  {
   "cell_type": "code",
   "execution_count": null,
   "id": "06cb05da",
   "metadata": {},
   "outputs": [],
   "source": []
  }
 ],
 "metadata": {
  "kernelspec": {
   "display_name": "Python [conda env:py3-TF2.0] *",
   "language": "python",
   "name": "conda-env-py3-TF2.0-py"
  },
  "language_info": {
   "codemirror_mode": {
    "name": "ipython",
    "version": 3
   },
   "file_extension": ".py",
   "mimetype": "text/x-python",
   "name": "python",
   "nbconvert_exporter": "python",
   "pygments_lexer": "ipython3",
   "version": "3.9.7"
  }
 },
 "nbformat": 4,
 "nbformat_minor": 5
}
