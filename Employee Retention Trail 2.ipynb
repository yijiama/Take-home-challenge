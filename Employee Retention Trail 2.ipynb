{
 "cells": [
  {
   "cell_type": "markdown",
   "id": "73453418",
   "metadata": {},
   "source": [
    "# Employee Retention"
   ]
  },
  {
   "cell_type": "markdown",
   "id": "9655324d",
   "metadata": {},
   "source": [
    "Employee turn-over is a very costly problem for companies. The cost of replacing an employee is often larger than 100K USD, taking into account the time spent to interview and find a replacement, placement fees, sign-on bonuses and the loss of productivity for several months.\n",
    "\n",
    "Understanding why and when employees are most likely to leave can lead to actions to improve employee retention as well as planning new hiring in advance. This application of DS is called people analytics or people data science. \n",
    "\n",
    "In this challenge, we have a data set with info about the employees and have to predict when employees are going to quit by understanding the main drivers of emplyee churn. "
   ]
  },
  {
   "cell_type": "code",
   "execution_count": 11,
   "id": "3352abe9",
   "metadata": {},
   "outputs": [],
   "source": [
    "import numpy as np\n",
    "import pandas as pd\n",
    "import seaborn as sns\n",
    "import matplotlib.pyplot as plt\n",
    "%matplotlib inline"
   ]
  },
  {
   "cell_type": "code",
   "execution_count": 5,
   "id": "89ada3c8",
   "metadata": {},
   "outputs": [
    {
     "data": {
      "text/html": [
       "<div>\n",
       "<style scoped>\n",
       "    .dataframe tbody tr th:only-of-type {\n",
       "        vertical-align: middle;\n",
       "    }\n",
       "\n",
       "    .dataframe tbody tr th {\n",
       "        vertical-align: top;\n",
       "    }\n",
       "\n",
       "    .dataframe thead th {\n",
       "        text-align: right;\n",
       "    }\n",
       "</style>\n",
       "<table border=\"1\" class=\"dataframe\">\n",
       "  <thead>\n",
       "    <tr style=\"text-align: right;\">\n",
       "      <th></th>\n",
       "      <th>Unnamed: 0</th>\n",
       "      <th>employee_id</th>\n",
       "      <th>company_id</th>\n",
       "      <th>dept</th>\n",
       "      <th>seniority</th>\n",
       "      <th>salary</th>\n",
       "      <th>join_date</th>\n",
       "      <th>quit_date</th>\n",
       "    </tr>\n",
       "  </thead>\n",
       "  <tbody>\n",
       "    <tr>\n",
       "      <th>0</th>\n",
       "      <td>1</td>\n",
       "      <td>13021.0</td>\n",
       "      <td>7</td>\n",
       "      <td>customer_service</td>\n",
       "      <td>28</td>\n",
       "      <td>89000.0</td>\n",
       "      <td>2014-03-24</td>\n",
       "      <td>2015-10-30</td>\n",
       "    </tr>\n",
       "    <tr>\n",
       "      <th>1</th>\n",
       "      <td>2</td>\n",
       "      <td>825355.0</td>\n",
       "      <td>7</td>\n",
       "      <td>marketing</td>\n",
       "      <td>20</td>\n",
       "      <td>183000.0</td>\n",
       "      <td>2013-04-29</td>\n",
       "      <td>2014-04-04</td>\n",
       "    </tr>\n",
       "    <tr>\n",
       "      <th>2</th>\n",
       "      <td>3</td>\n",
       "      <td>927315.0</td>\n",
       "      <td>4</td>\n",
       "      <td>marketing</td>\n",
       "      <td>14</td>\n",
       "      <td>101000.0</td>\n",
       "      <td>2014-10-13</td>\n",
       "      <td>NaN</td>\n",
       "    </tr>\n",
       "    <tr>\n",
       "      <th>3</th>\n",
       "      <td>4</td>\n",
       "      <td>662910.0</td>\n",
       "      <td>7</td>\n",
       "      <td>customer_service</td>\n",
       "      <td>20</td>\n",
       "      <td>115000.0</td>\n",
       "      <td>2012-05-14</td>\n",
       "      <td>2013-06-07</td>\n",
       "    </tr>\n",
       "    <tr>\n",
       "      <th>4</th>\n",
       "      <td>5</td>\n",
       "      <td>256971.0</td>\n",
       "      <td>2</td>\n",
       "      <td>data_science</td>\n",
       "      <td>23</td>\n",
       "      <td>276000.0</td>\n",
       "      <td>2011-10-17</td>\n",
       "      <td>2014-08-22</td>\n",
       "    </tr>\n",
       "  </tbody>\n",
       "</table>\n",
       "</div>"
      ],
      "text/plain": [
       "   Unnamed: 0  employee_id  company_id              dept  seniority    salary  \\\n",
       "0           1      13021.0           7  customer_service         28   89000.0   \n",
       "1           2     825355.0           7         marketing         20  183000.0   \n",
       "2           3     927315.0           4         marketing         14  101000.0   \n",
       "3           4     662910.0           7  customer_service         20  115000.0   \n",
       "4           5     256971.0           2      data_science         23  276000.0   \n",
       "\n",
       "    join_date   quit_date  \n",
       "0  2014-03-24  2015-10-30  \n",
       "1  2013-04-29  2014-04-04  \n",
       "2  2014-10-13         NaN  \n",
       "3  2012-05-14  2013-06-07  \n",
       "4  2011-10-17  2014-08-22  "
      ]
     },
     "execution_count": 5,
     "metadata": {},
     "output_type": "execute_result"
    }
   ],
   "source": [
    "df = pd.read_csv('Employee_Rentation.csv')\n",
    "df.head()"
   ]
  },
  {
   "cell_type": "code",
   "execution_count": 6,
   "id": "833ff07c",
   "metadata": {},
   "outputs": [
    {
     "name": "stdout",
     "output_type": "stream",
     "text": [
      "<class 'pandas.core.frame.DataFrame'>\n",
      "RangeIndex: 24702 entries, 0 to 24701\n",
      "Data columns (total 8 columns):\n",
      " #   Column       Non-Null Count  Dtype  \n",
      "---  ------       --------------  -----  \n",
      " 0   Unnamed: 0   24702 non-null  int64  \n",
      " 1   employee_id  24702 non-null  float64\n",
      " 2   company_id   24702 non-null  int64  \n",
      " 3   dept         24702 non-null  object \n",
      " 4   seniority    24702 non-null  int64  \n",
      " 5   salary       24702 non-null  float64\n",
      " 6   join_date    24702 non-null  object \n",
      " 7   quit_date    13510 non-null  object \n",
      "dtypes: float64(2), int64(3), object(3)\n",
      "memory usage: 1.5+ MB\n"
     ]
    }
   ],
   "source": [
    "df.info()"
   ]
  },
  {
   "cell_type": "markdown",
   "id": "60526576",
   "metadata": {},
   "source": [
    "We can see from the info(), only has missing value for the quit_date column, so we will later seprate the data into two datasets."
   ]
  },
  {
   "cell_type": "code",
   "execution_count": 9,
   "id": "4342332d",
   "metadata": {},
   "outputs": [
    {
     "data": {
      "text/html": [
       "<div>\n",
       "<style scoped>\n",
       "    .dataframe tbody tr th:only-of-type {\n",
       "        vertical-align: middle;\n",
       "    }\n",
       "\n",
       "    .dataframe tbody tr th {\n",
       "        vertical-align: top;\n",
       "    }\n",
       "\n",
       "    .dataframe thead th {\n",
       "        text-align: right;\n",
       "    }\n",
       "</style>\n",
       "<table border=\"1\" class=\"dataframe\">\n",
       "  <thead>\n",
       "    <tr style=\"text-align: right;\">\n",
       "      <th></th>\n",
       "      <th>Unnamed: 0</th>\n",
       "      <th>employee_id</th>\n",
       "      <th>company_id</th>\n",
       "      <th>dept</th>\n",
       "      <th>seniority</th>\n",
       "      <th>salary</th>\n",
       "      <th>join_date</th>\n",
       "      <th>quit_date</th>\n",
       "    </tr>\n",
       "  </thead>\n",
       "  <tbody>\n",
       "    <tr>\n",
       "      <th>0</th>\n",
       "      <td>1</td>\n",
       "      <td>13021.0</td>\n",
       "      <td>7</td>\n",
       "      <td>customer_service</td>\n",
       "      <td>28</td>\n",
       "      <td>89000.0</td>\n",
       "      <td>2014-03-24</td>\n",
       "      <td>2015-10-30</td>\n",
       "    </tr>\n",
       "    <tr>\n",
       "      <th>1</th>\n",
       "      <td>2</td>\n",
       "      <td>825355.0</td>\n",
       "      <td>7</td>\n",
       "      <td>marketing</td>\n",
       "      <td>20</td>\n",
       "      <td>183000.0</td>\n",
       "      <td>2013-04-29</td>\n",
       "      <td>2014-04-04</td>\n",
       "    </tr>\n",
       "    <tr>\n",
       "      <th>2</th>\n",
       "      <td>3</td>\n",
       "      <td>927315.0</td>\n",
       "      <td>4</td>\n",
       "      <td>marketing</td>\n",
       "      <td>14</td>\n",
       "      <td>101000.0</td>\n",
       "      <td>2014-10-13</td>\n",
       "      <td>NaT</td>\n",
       "    </tr>\n",
       "    <tr>\n",
       "      <th>3</th>\n",
       "      <td>4</td>\n",
       "      <td>662910.0</td>\n",
       "      <td>7</td>\n",
       "      <td>customer_service</td>\n",
       "      <td>20</td>\n",
       "      <td>115000.0</td>\n",
       "      <td>2012-05-14</td>\n",
       "      <td>2013-06-07</td>\n",
       "    </tr>\n",
       "    <tr>\n",
       "      <th>4</th>\n",
       "      <td>5</td>\n",
       "      <td>256971.0</td>\n",
       "      <td>2</td>\n",
       "      <td>data_science</td>\n",
       "      <td>23</td>\n",
       "      <td>276000.0</td>\n",
       "      <td>2011-10-17</td>\n",
       "      <td>2014-08-22</td>\n",
       "    </tr>\n",
       "  </tbody>\n",
       "</table>\n",
       "</div>"
      ],
      "text/plain": [
       "   Unnamed: 0  employee_id  company_id              dept  seniority    salary  \\\n",
       "0           1      13021.0           7  customer_service         28   89000.0   \n",
       "1           2     825355.0           7         marketing         20  183000.0   \n",
       "2           3     927315.0           4         marketing         14  101000.0   \n",
       "3           4     662910.0           7  customer_service         20  115000.0   \n",
       "4           5     256971.0           2      data_science         23  276000.0   \n",
       "\n",
       "   join_date  quit_date  \n",
       "0 2014-03-24 2015-10-30  \n",
       "1 2013-04-29 2014-04-04  \n",
       "2 2014-10-13        NaT  \n",
       "3 2012-05-14 2013-06-07  \n",
       "4 2011-10-17 2014-08-22  "
      ]
     },
     "execution_count": 9,
     "metadata": {},
     "output_type": "execute_result"
    }
   ],
   "source": [
    "## change string to datetime\n",
    "df['quit_date'] = pd.to_datetime(df['quit_date'])\n",
    "df['join_date'] = pd.to_datetime(df['join_date'])\n",
    "df.head()"
   ]
  },
  {
   "cell_type": "code",
   "execution_count": 12,
   "id": "dd4178ee",
   "metadata": {},
   "outputs": [
    {
     "data": {
      "text/html": [
       "<div>\n",
       "<style scoped>\n",
       "    .dataframe tbody tr th:only-of-type {\n",
       "        vertical-align: middle;\n",
       "    }\n",
       "\n",
       "    .dataframe tbody tr th {\n",
       "        vertical-align: top;\n",
       "    }\n",
       "\n",
       "    .dataframe thead th {\n",
       "        text-align: right;\n",
       "    }\n",
       "</style>\n",
       "<table border=\"1\" class=\"dataframe\">\n",
       "  <thead>\n",
       "    <tr style=\"text-align: right;\">\n",
       "      <th></th>\n",
       "      <th>Unnamed: 0</th>\n",
       "      <th>employee_id</th>\n",
       "      <th>company_id</th>\n",
       "      <th>dept</th>\n",
       "      <th>seniority</th>\n",
       "      <th>salary</th>\n",
       "      <th>join_date</th>\n",
       "      <th>quit_date</th>\n",
       "    </tr>\n",
       "  </thead>\n",
       "  <tbody>\n",
       "    <tr>\n",
       "      <th>0</th>\n",
       "      <td>1</td>\n",
       "      <td>13021.0</td>\n",
       "      <td>7</td>\n",
       "      <td>customer_service</td>\n",
       "      <td>28</td>\n",
       "      <td>89000.0</td>\n",
       "      <td>2014-03-24 00:00:00</td>\n",
       "      <td>2015-10-30 00:00:00</td>\n",
       "    </tr>\n",
       "    <tr>\n",
       "      <th>1</th>\n",
       "      <td>2</td>\n",
       "      <td>825355.0</td>\n",
       "      <td>7</td>\n",
       "      <td>marketing</td>\n",
       "      <td>20</td>\n",
       "      <td>183000.0</td>\n",
       "      <td>2013-04-29 00:00:00</td>\n",
       "      <td>2014-04-04 00:00:00</td>\n",
       "    </tr>\n",
       "    <tr>\n",
       "      <th>2</th>\n",
       "      <td>3</td>\n",
       "      <td>927315.0</td>\n",
       "      <td>4</td>\n",
       "      <td>marketing</td>\n",
       "      <td>14</td>\n",
       "      <td>101000.0</td>\n",
       "      <td>2014-10-13 00:00:00</td>\n",
       "      <td>None</td>\n",
       "    </tr>\n",
       "    <tr>\n",
       "      <th>3</th>\n",
       "      <td>4</td>\n",
       "      <td>662910.0</td>\n",
       "      <td>7</td>\n",
       "      <td>customer_service</td>\n",
       "      <td>20</td>\n",
       "      <td>115000.0</td>\n",
       "      <td>2012-05-14 00:00:00</td>\n",
       "      <td>2013-06-07 00:00:00</td>\n",
       "    </tr>\n",
       "    <tr>\n",
       "      <th>4</th>\n",
       "      <td>5</td>\n",
       "      <td>256971.0</td>\n",
       "      <td>2</td>\n",
       "      <td>data_science</td>\n",
       "      <td>23</td>\n",
       "      <td>276000.0</td>\n",
       "      <td>2011-10-17 00:00:00</td>\n",
       "      <td>2014-08-22 00:00:00</td>\n",
       "    </tr>\n",
       "  </tbody>\n",
       "</table>\n",
       "</div>"
      ],
      "text/plain": [
       "   Unnamed: 0  employee_id  company_id              dept  seniority    salary  \\\n",
       "0           1      13021.0           7  customer_service         28   89000.0   \n",
       "1           2     825355.0           7         marketing         20  183000.0   \n",
       "2           3     927315.0           4         marketing         14  101000.0   \n",
       "3           4     662910.0           7  customer_service         20  115000.0   \n",
       "4           5     256971.0           2      data_science         23  276000.0   \n",
       "\n",
       "             join_date            quit_date  \n",
       "0  2014-03-24 00:00:00  2015-10-30 00:00:00  \n",
       "1  2013-04-29 00:00:00  2014-04-04 00:00:00  \n",
       "2  2014-10-13 00:00:00                 None  \n",
       "3  2012-05-14 00:00:00  2013-06-07 00:00:00  \n",
       "4  2011-10-17 00:00:00  2014-08-22 00:00:00  "
      ]
     },
     "execution_count": 12,
     "metadata": {},
     "output_type": "execute_result"
    }
   ],
   "source": [
    "## change NaT in the join_date and quit_date column to None\n",
    "df.replace({np.nan: None}, inplace = True)\n",
    "df.head()"
   ]
  },
  {
   "cell_type": "markdown",
   "id": "103d6991",
   "metadata": {},
   "source": [
    "###  1. create a table with 3 columns: day, employee_headcount, company_id"
   ]
  },
  {
   "cell_type": "code",
   "execution_count": 14,
   "id": "7359aafc",
   "metadata": {},
   "outputs": [],
   "source": [
    "# estimate employee headcount, for each company, on each day, from 2011/01/24 to 2015/12/13\n",
    "#=================================================================================\n",
    "# we can get this table by for loop\n",
    "#=================================================================================\n",
    "day_range = pd.date_range(start = '2011/01/24', end='2015/12/13', freq = 'D')\n",
    "all_company_id = sorted(df['company_id'].unique())"
   ]
  },
  {
   "cell_type": "code",
   "execution_count": 145,
   "id": "bf9ebd81",
   "metadata": {},
   "outputs": [],
   "source": [
    "day = []\n",
    "company_id = []\n",
    "employee_headcount = []\n",
    "for d in day_range:\n",
    "    for c in all_company_id:\n",
    "        day.append(d)\n",
    "        company_id.append(c)\n",
    "        temp = len(df[(df['join_date']<=d) & ((df['quit_date']>d)|(df['quit_date'].isnull())) & (df['company_id']==c)])\n",
    "        employee_headcount.append(temp)"
   ]
  },
  {
   "cell_type": "code",
   "execution_count": 146,
   "id": "703a3d13",
   "metadata": {},
   "outputs": [
    {
     "data": {
      "text/html": [
       "<div>\n",
       "<style scoped>\n",
       "    .dataframe tbody tr th:only-of-type {\n",
       "        vertical-align: middle;\n",
       "    }\n",
       "\n",
       "    .dataframe tbody tr th {\n",
       "        vertical-align: top;\n",
       "    }\n",
       "\n",
       "    .dataframe thead th {\n",
       "        text-align: right;\n",
       "    }\n",
       "</style>\n",
       "<table border=\"1\" class=\"dataframe\">\n",
       "  <thead>\n",
       "    <tr style=\"text-align: right;\">\n",
       "      <th></th>\n",
       "      <th>day</th>\n",
       "      <th>company_id</th>\n",
       "      <th>employee_headcount</th>\n",
       "    </tr>\n",
       "  </thead>\n",
       "  <tbody>\n",
       "    <tr>\n",
       "      <th>21415</th>\n",
       "      <td>2015-12-13</td>\n",
       "      <td>8</td>\n",
       "      <td>468</td>\n",
       "    </tr>\n",
       "    <tr>\n",
       "      <th>21416</th>\n",
       "      <td>2015-12-13</td>\n",
       "      <td>9</td>\n",
       "      <td>432</td>\n",
       "    </tr>\n",
       "    <tr>\n",
       "      <th>21417</th>\n",
       "      <td>2015-12-13</td>\n",
       "      <td>10</td>\n",
       "      <td>385</td>\n",
       "    </tr>\n",
       "    <tr>\n",
       "      <th>21418</th>\n",
       "      <td>2015-12-13</td>\n",
       "      <td>11</td>\n",
       "      <td>4</td>\n",
       "    </tr>\n",
       "    <tr>\n",
       "      <th>21419</th>\n",
       "      <td>2015-12-13</td>\n",
       "      <td>12</td>\n",
       "      <td>12</td>\n",
       "    </tr>\n",
       "  </tbody>\n",
       "</table>\n",
       "</div>"
      ],
      "text/plain": [
       "             day  company_id  employee_headcount\n",
       "21415 2015-12-13           8                 468\n",
       "21416 2015-12-13           9                 432\n",
       "21417 2015-12-13          10                 385\n",
       "21418 2015-12-13          11                   4\n",
       "21419 2015-12-13          12                  12"
      ]
     },
     "execution_count": 146,
     "metadata": {},
     "output_type": "execute_result"
    }
   ],
   "source": [
    "head_count_table = pd.DataFrame({'day': day, 'company_id': company_id,'employee_headcount': employee_headcount })  \n",
    "head_count_table.tail()"
   ]
  },
  {
   "cell_type": "code",
   "execution_count": 118,
   "id": "041780a4",
   "metadata": {},
   "outputs": [],
   "source": [
    "#=================================================================================\n",
    "# we can get this table in another way \"merge\"\n",
    "#=================================================================================\n",
    "# 1. I get for each day/company, how many quit/got hired on that day\n",
    "\n",
    "data_join = df.groupby(['join_date','company_id']).count()['employee_id']\n",
    "data_quit = df.groupby(['quit_date','company_id']).count()['employee_id']"
   ]
  },
  {
   "cell_type": "code",
   "execution_count": 142,
   "id": "3e3b7eba",
   "metadata": {},
   "outputs": [],
   "source": [
    "from itertools import product\n",
    "data_headcount = pd.DataFrame(list(product(day_range, all_company_id)), columns=['day', 'company_id'])\n",
    "#2. left outer join with data_headcount table\n",
    "data_headcount = pd.merge(data_headcount, data_join, how='left',left_on=['day','company_id'], right_on=['join_date','company_id'])\n",
    "data_headcount = pd.merge(data_headcount, data_quit, how='left',left_on=['day','company_id'], right_on=['quit_date','company_id'])\n",
    "data_headcount.fillna(0, inplace=True)\n",
    "\n",
    "head_count_col = data_headcount.groupby('company_id')['employee_id_x'].cumsum()-data_headcount.groupby('company_id')['employee_id_y'].cumsum()\n",
    "data_headcount_table = data_headcount.drop(['employee_id_x','employee_id_y'],axis=1)\n",
    "data_headcount_table['head_count'] = head_count_col"
   ]
  },
  {
   "cell_type": "code",
   "execution_count": 143,
   "id": "8ad12b00",
   "metadata": {},
   "outputs": [
    {
     "data": {
      "text/html": [
       "<div>\n",
       "<style scoped>\n",
       "    .dataframe tbody tr th:only-of-type {\n",
       "        vertical-align: middle;\n",
       "    }\n",
       "\n",
       "    .dataframe tbody tr th {\n",
       "        vertical-align: top;\n",
       "    }\n",
       "\n",
       "    .dataframe thead th {\n",
       "        text-align: right;\n",
       "    }\n",
       "</style>\n",
       "<table border=\"1\" class=\"dataframe\">\n",
       "  <thead>\n",
       "    <tr style=\"text-align: right;\">\n",
       "      <th></th>\n",
       "      <th>day</th>\n",
       "      <th>company_id</th>\n",
       "      <th>head_count</th>\n",
       "    </tr>\n",
       "  </thead>\n",
       "  <tbody>\n",
       "    <tr>\n",
       "      <th>21415</th>\n",
       "      <td>2015-12-13</td>\n",
       "      <td>8</td>\n",
       "      <td>468.0</td>\n",
       "    </tr>\n",
       "    <tr>\n",
       "      <th>21416</th>\n",
       "      <td>2015-12-13</td>\n",
       "      <td>9</td>\n",
       "      <td>432.0</td>\n",
       "    </tr>\n",
       "    <tr>\n",
       "      <th>21417</th>\n",
       "      <td>2015-12-13</td>\n",
       "      <td>10</td>\n",
       "      <td>385.0</td>\n",
       "    </tr>\n",
       "    <tr>\n",
       "      <th>21418</th>\n",
       "      <td>2015-12-13</td>\n",
       "      <td>11</td>\n",
       "      <td>4.0</td>\n",
       "    </tr>\n",
       "    <tr>\n",
       "      <th>21419</th>\n",
       "      <td>2015-12-13</td>\n",
       "      <td>12</td>\n",
       "      <td>12.0</td>\n",
       "    </tr>\n",
       "  </tbody>\n",
       "</table>\n",
       "</div>"
      ],
      "text/plain": [
       "             day  company_id  head_count\n",
       "21415 2015-12-13           8       468.0\n",
       "21416 2015-12-13           9       432.0\n",
       "21417 2015-12-13          10       385.0\n",
       "21418 2015-12-13          11         4.0\n",
       "21419 2015-12-13          12        12.0"
      ]
     },
     "execution_count": 143,
     "metadata": {},
     "output_type": "execute_result"
    }
   ],
   "source": [
    "data_headcount_table.tail()"
   ]
  },
  {
   "cell_type": "markdown",
   "id": "b8982775",
   "metadata": {},
   "source": [
    "### 2. Understand employee retention"
   ]
  },
  {
   "cell_type": "markdown",
   "id": "5cb9161a",
   "metadata": {},
   "source": [
    "1st. Let's check how many days they stayed. This should matter, because people usually get bored in the same place for too long"
   ]
  },
  {
   "cell_type": "code",
   "execution_count": 154,
   "id": "8b5dbea2",
   "metadata": {},
   "outputs": [],
   "source": [
    "days = df.quit_date-df.join_date"
   ]
  },
  {
   "cell_type": "code",
   "execution_count": 155,
   "id": "3f459c97",
   "metadata": {},
   "outputs": [],
   "source": [
    "employment_length = np.array(list(map(lambda x: x.days,days)))"
   ]
  },
  {
   "cell_type": "code",
   "execution_count": 156,
   "id": "5f67a7ba",
   "metadata": {},
   "outputs": [],
   "source": [
    "df['employment_length'] = employment_length"
   ]
  },
  {
   "cell_type": "code",
   "execution_count": 162,
   "id": "5b780586",
   "metadata": {},
   "outputs": [
    {
     "data": {
      "text/plain": [
       "<AxesSubplot:xlabel='employment_length', ylabel='Count'>"
      ]
     },
     "execution_count": 162,
     "metadata": {},
     "output_type": "execute_result"
    },
    {
     "data": {
      "image/png": "[encoded data removed]",
      "text/plain": [
       "<Figure size 864x360 with 1 Axes>"
      ]
     },
     "metadata": {
      "needs_background": "light"
     },
     "output_type": "display_data"
    }
   ],
   "source": [
    "fig = plt.figure(figsize=(12,5))\n",
    "sns.histplot(df['employment_length'],color = 'c',bins=100)"
   ]
  },
  {
   "cell_type": "markdown",
   "id": "8f8707af",
   "metadata": {},
   "source": [
    "We can see from this histgram that, there are peaks around each employee year anniversary!!"
   ]
  },
  {
   "cell_type": "code",
   "execution_count": 171,
   "id": "a1256e07",
   "metadata": {},
   "outputs": [
    {
     "data": {
      "text/plain": [
       "<AxesSubplot:ylabel='Count'>"
      ]
     },
     "execution_count": 171,
     "metadata": {},
     "output_type": "execute_result"
    },
    {
     "data": {
      "image/png": "[encoded data removed]",
      "text/plain": [
       "<Figure size 864x576 with 2 Axes>"
      ]
     },
     "metadata": {
      "needs_background": "light"
     },
     "output_type": "display_data"
    }
   ],
   "source": [
    "## Plot week of year and month of year\n",
    "# Week No. for quiting\n",
    "quit_data = df[~df['quit_date'].isnull()]\n",
    "import datetime\n",
    "quit_week = np.array(list(map(lambda x: x.week, quit_data['quit_date'])))\n",
    "quit_month = np.array(list(map(lambda x: x.month, quit_data['quit_date'])))\n",
    "# plot employee length in weeks\n",
    "hist_kws={'histtype': 'bar', 'edgecolor':'black', 'alpha': 0.2}\n",
    "fig,ax = plt.subplots(nrows=2, ncols=1, figsize=(12,8))\n",
    "sns.histplot(quit_week, bins=len(np.unique(quit_week)), color= 'm',ax=ax[0])\n",
    "sns.histplot(quit_week, bins=len(np.unique(quit_month)), color= 'b',ax=ax[1])"
   ]
  },
  {
   "cell_type": "markdown",
   "id": "2ebdfd8b",
   "metadata": {},
   "source": [
    "We can see there is no big difference among the week-of-year or month-of-year!"
   ]
  },
  {
   "cell_type": "markdown",
   "id": "bc896c30",
   "metadata": {},
   "source": [
    "### 3. find the characteristics of the people who quit early"
   ]
  },
  {
   "cell_type": "markdown",
   "id": "b5d6a4cb",
   "metadata": {},
   "source": [
    "By looking at the histogram of employment_length, it looks like we could define early quitters as those people who quit within 1 year or so. So, we can create two classes of users： quit within 13 months or not. \n",
    "\n",
    "And for those people who hasn't been in the current company for at least 13 months, we remove them."
   ]
  },
  {
   "cell_type": "code",
   "execution_count": 172,
   "id": "3730b313",
   "metadata": {},
   "outputs": [],
   "source": [
    "data = df[df['join_date']<(pd.to_datetime('2015-12-31')-pd.DateOffset(365 + 31))]"
   ]
  },
  {
   "cell_type": "code",
   "execution_count": 173,
   "id": "3b14d44e",
   "metadata": {},
   "outputs": [],
   "source": [
    "early_quitters = []\n",
    "for i in range(data.shape[0]):\n",
    "    if data['quit_date'].iloc[i]==None:\n",
    "        early_quitters.append(0)\n",
    "    elif (data['quit_date'].iloc[i] - data['join_date'].iloc[i]).days>(365 + 31):\n",
    "        early_quitters.append(0)\n",
    "    else:\n",
    "        early_quitters.append(1)"
   ]
  },
  {
   "cell_type": "code",
   "execution_count": 174,
   "id": "abc6a5a2",
   "metadata": {},
   "outputs": [
    {
     "name": "stderr",
     "output_type": "stream",
     "text": [
      "C:\\Users\\yijia\\AppData\\Local\\Temp/ipykernel_7248/3317096494.py:1: SettingWithCopyWarning: \n",
      "A value is trying to be set on a copy of a slice from a DataFrame.\n",
      "Try using .loc[row_indexer,col_indexer] = value instead\n",
      "\n",
      "See the caveats in the documentation: https://pandas.pydata.org/pandas-docs/stable/user_guide/indexing.html#returning-a-view-versus-a-copy\n",
      "  data['early_quitters'] = early_quitters\n"
     ]
    }
   ],
   "source": [
    "data['early_quitters'] = early_quitters"
   ]
  },
  {
   "cell_type": "code",
   "execution_count": 175,
   "id": "aa4ad71e",
   "metadata": {},
   "outputs": [],
   "source": [
    "#=================================================\n",
    "#Decision Tree 1\n",
    "#=================================================\n",
    "X = data[['employee_id', 'company_id', 'seniority','salary']]\n",
    "y = data['early_quitters']"
   ]
  },
  {
   "cell_type": "code",
   "execution_count": 176,
   "id": "d247acb1",
   "metadata": {},
   "outputs": [],
   "source": [
    "dept = pd.get_dummies(data['dept'],drop_first=True)"
   ]
  },
  {
   "cell_type": "code",
   "execution_count": 180,
   "id": "34ab30bb",
   "metadata": {},
   "outputs": [],
   "source": [
    "X = pd.concat([X, dept], axis=1)"
   ]
  },
  {
   "cell_type": "code",
   "execution_count": 182,
   "id": "f2ba1c09",
   "metadata": {},
   "outputs": [],
   "source": [
    "from sklearn.tree import DecisionTreeClassifier\n",
    "clf = DecisionTreeClassifier(max_depth=3, min_samples_leaf=30, random_state=42)\n",
    "clf = clf.fit(X=X , y=y)"
   ]
  },
  {
   "cell_type": "code",
   "execution_count": 183,
   "id": "a9163c65",
   "metadata": {},
   "outputs": [
    {
     "name": "stdout",
     "output_type": "stream",
     "text": [
      "salary     | 0.95678\n",
      "employee_id | 0.04322\n",
      "company_id | 0.00000\n",
      "seniority  | 0.00000\n",
      "data_science | 0.00000\n",
      "design     | 0.00000\n",
      "engineer   | 0.00000\n",
      "marketing  | 0.00000\n",
      "sales      | 0.00000\n"
     ]
    }
   ],
   "source": [
    "# Feature importance\n",
    "features = list(X.columns)\n",
    "targets = ['Not quit', 'Quit']\n",
    "importance = sorted(zip(features, clf.feature_importances_), key=lambda x:x[1], reverse=True)\n",
    "for feature, val in importance:\n",
    "    print('{0:10s} | {1:.5f}'.format(feature, val))"
   ]
  },
  {
   "cell_type": "code",
   "execution_count": 185,
   "id": "d1b415a1",
   "metadata": {},
   "outputs": [
    {
     "name": "stdout",
     "output_type": "stream",
     "text": [
      "|--- feature_3 <= 224500.00\n",
      "|   |--- feature_3 <= 62500.00\n",
      "|   |   |--- feature_0 <= 53758.00\n",
      "|   |   |   |--- class: 0\n",
      "|   |   |--- feature_0 >  53758.00\n",
      "|   |   |   |--- class: 0\n",
      "|   |--- feature_3 >  62500.00\n",
      "|   |   |--- feature_3 <= 182500.00\n",
      "|   |   |   |--- class: 0\n",
      "|   |   |--- feature_3 >  182500.00\n",
      "|   |   |   |--- class: 0\n",
      "|--- feature_3 >  224500.00\n",
      "|   |--- feature_3 <= 274500.00\n",
      "|   |   |--- feature_0 <= 746825.00\n",
      "|   |   |   |--- class: 0\n",
      "|   |   |--- feature_0 >  746825.00\n",
      "|   |   |   |--- class: 0\n",
      "|   |--- feature_3 >  274500.00\n",
      "|   |   |--- feature_3 <= 339500.00\n",
      "|   |   |   |--- class: 0\n",
      "|   |   |--- feature_3 >  339500.00\n",
      "|   |   |   |--- class: 0\n",
      "\n"
     ]
    }
   ],
   "source": [
    "from sklearn import tree\n",
    "text_representation = tree.export_text(clf)\n",
    "print(text_representation)"
   ]
  },
  {
   "cell_type": "markdown",
   "id": "5d3ceb98",
   "metadata": {},
   "source": [
    "Not surprising! Salary is what matters the most. After all, it probably has within it information about the other variables too. That is, seniority, dept and company impact salary. So salary carries pretty much all the information available.\n",
    "\n",
    "we can see, if salary between 62500 and 224500, the employee has higher probability of being an early quitter, otherwise not. That means tha tpeople who make a lot of money an dvery little are not likely to quit"
   ]
  },
  {
   "cell_type": "code",
   "execution_count": 186,
   "id": "dfb7bffc",
   "metadata": {},
   "outputs": [
    {
     "name": "stderr",
     "output_type": "stream",
     "text": [
      "C:\\Users\\yijia\\anaconda3\\lib\\site-packages\\seaborn\\distributions.py:2619: FutureWarning: `distplot` is a deprecated function and will be removed in a future version. Please adapt your code to use either `displot` (a figure-level function with similar flexibility) or `histplot` (an axes-level function for histograms).\n",
      "  warnings.warn(msg, FutureWarning)\n",
      "C:\\Users\\yijia\\anaconda3\\lib\\site-packages\\seaborn\\distributions.py:2619: FutureWarning: `distplot` is a deprecated function and will be removed in a future version. Please adapt your code to use either `displot` (a figure-level function with similar flexibility) or `histplot` (an axes-level function for histograms).\n",
      "  warnings.warn(msg, FutureWarning)\n"
     ]
    },
    {
     "data": {
      "image/png": "[encoded data removed]",
      "text/plain": [
       "<Figure size 1080x504 with 1 Axes>"
      ]
     },
     "metadata": {
      "needs_background": "light"
     },
     "output_type": "display_data"
    }
   ],
   "source": [
    "hist_kws={'histtype': 'bar', 'edgecolor':'black', 'alpha': 0.2}\n",
    "fig, ax = plt.subplots(figsize=(15, 7))\n",
    "sns.distplot(data[data['early_quitters']==0]['salary'], \n",
    "             label='Not early_quitters', ax=ax, hist_kws=hist_kws)\n",
    "sns.distplot(data[data['early_quitters']==1]['salary'], \n",
    "             label='early_quitters', ax=ax, hist_kws=hist_kws)\n",
    "ax.set_xlabel('Salary', fontsize=12)\n",
    "ax.set_ylabel('PDF', fontsize=12)\n",
    "ax.legend()\n",
    "plt.show()"
   ]
  },
  {
   "cell_type": "markdown",
   "id": "449231c3",
   "metadata": {},
   "source": [
    "### Conclusion"
   ]
  },
  {
   "cell_type": "markdown",
   "id": "5eec7c1c",
   "metadata": {},
   "source": [
    "1. Given how important is salary, I would definitely love to have as a variable the salary the employee who quit was offered in the next job. Otherwise, things like: promotions or raises received during the employee tenure would be interesting.\n",
    "\n",
    "2. The major findings are that employees quit at year anniversaries, this makes sense. Even if you don’t like your current job, you often stay for 1 yr before quitting + you often get stocks after 1 yr so it makes sense to wait. Also, the beginning of the year is well known to be the best time to change job: companies are hiring more and you often want to stay until end of Dec to get the calendar year bonus.\n",
    "\n",
    "3. Employees with low and high salaries are less likely to quit. Probably because employees with high salaries are happy there and employees with low salaries are not that marketable, so they have a hard time finding a new job."
   ]
  },
  {
   "cell_type": "code",
   "execution_count": null,
   "id": "f36af31f",
   "metadata": {},
   "outputs": [],
   "source": []
  }
 ],
 "metadata": {
  "kernelspec": {
   "display_name": "Python 3 (ipykernel)",
   "language": "python",
   "name": "python3"
  },
  "language_info": {
   "codemirror_mode": {
    "name": "ipython",
    "version": 3
   },
   "file_extension": ".py",
   "mimetype": "text/x-python",
   "name": "python",
   "nbconvert_exporter": "python",
   "pygments_lexer": "ipython3",
   "version": "3.9.7"
  }
 },
 "nbformat": 4,
 "nbformat_minor": 5
}
